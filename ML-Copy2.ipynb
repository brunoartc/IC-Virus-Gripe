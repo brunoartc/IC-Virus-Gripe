{
 "cells": [
  {
   "cell_type": "code",
   "execution_count": 1,
   "metadata": {},
   "outputs": [],
   "source": [
    "import pandas as pd\n",
    "def get_dataframes():\n",
    "    dataframes=pd.read_excel(\"com_Nas_por_campo_Todas_Tabelas_Flu_de_2010_a_2019_com_os_63_campos_da_Intersecao_de_Todos_e 244774_Amostras.xlsx\")\n",
    "    dataframes[\"NT_DT\"] = pd.to_datetime(dataframes['DT_NOTIFIC'], errors = 'coerce')\n",
    "    dataframes[\"NT_DT\"] = dataframes['NT_DT'].map(lambda x: x.year)\n",
    "    return dataframes"
   ]
  },
  {
   "cell_type": "code",
   "execution_count": 2,
   "metadata": {},
   "outputs": [],
   "source": [
    "def convert_uf(uf):\n",
    "    if uf == \"RO\":\n",
    "        return 11\n",
    "    elif uf == \"AC\":\n",
    "        return 12\n",
    "    elif uf == \"AM\":\n",
    "        return 13\n",
    "    elif uf == \"RR\":\n",
    "        return 14\n",
    "    elif uf == \"PA\":\n",
    "        return 15\n",
    "    elif uf == \"AP\":\n",
    "        return 16\n",
    "    elif uf == \"TO\":\n",
    "        return 17\n",
    "    elif uf == \"MA\":\n",
    "        return 21\n",
    "    elif uf == \"PI\":\n",
    "        return 22\n",
    "    elif uf == \"CE\":\n",
    "        return 23\n",
    "    elif uf == \"RN\":\n",
    "        return 24\n",
    "    elif uf == \"PB\":\n",
    "        return 25\n",
    "    elif uf == \"PE\":\n",
    "        return 26\n",
    "    elif uf == \"AL\":\n",
    "        return 27\n",
    "    elif uf == \"SE\":\n",
    "        return 28\n",
    "    elif uf == \"BA\":\n",
    "        return 29\n",
    "    elif uf == \"MG\":\n",
    "        return 31\n",
    "    elif uf == \"ES\":\n",
    "        return 32\n",
    "    elif uf == \"RJ\":\n",
    "        return 33\n",
    "    elif uf == \"SP\":\n",
    "        return 35\n",
    "    elif uf == \"PR\":\n",
    "        return 41\n",
    "    elif uf == \"SC\":\n",
    "        return 42\n",
    "    elif uf == \"RS\":\n",
    "        return 43\n",
    "    elif uf == \"MS\":\n",
    "        return 50\n",
    "    elif uf == \"MT\":\n",
    "        return 51\n",
    "    elif uf == \"GO\":\n",
    "        return 52\n",
    "    elif uf == \"DF\":\n",
    "        return 53\n",
    "    else:\n",
    "        return int(uf)"
   ]
  },
  {
   "cell_type": "code",
   "execution_count": 3,
   "metadata": {},
   "outputs": [],
   "source": [
    "from sklearn.model_selection import train_test_split"
   ]
  },
  {
   "cell_type": "code",
   "execution_count": 4,
   "metadata": {},
   "outputs": [],
   "source": [
    "def label_regions(df):\n",
    "    regions = [[\"53\",\"52\",\"50\",\"51\"],[\"16\",\"12\",\"13\",\"15\",\"11\",\"14\",\"17\"],[\"27\",\"29\",\"23\",\"21\",\"25\",\"22\",\"26\",\"24\",\"28\"],[\"32\",\"31\",\"33\",\"35\"],[\"43\",\"42\",\"41\"]]\n",
    "\n",
    "    df['region-centro-oeste'] = df[\"UF_NOT\"].isin(regions[0]) #centro-oeste\n",
    "    df['region-norte'] = df[\"UF_NOT\"].isin(regions[1]) #norte\n",
    "    df['region-nordeste'] = df[\"UF_NOT\"].isin(regions[2]) #nordeste\n",
    "    df['region-sudeste'] = df[\"UF_NOT\"].isin(regions[3]) #sudeste\n",
    "    df['region-sul'] = df[\"UF_NOT\"].isin(regions[4]) #sul\n",
    "    return df"
   ]
  },
  {
   "cell_type": "code",
   "execution_count": 5,
   "metadata": {},
   "outputs": [],
   "source": [
    "def fill_nan_values(df, variable):\n",
    "    result_df = df.copy()\n",
    "    result_df[variable] = result_df[variable].fillna(result_df[variable].mode()[0])\n",
    "    return result_df\n",
    "\n",
    "def ignored_to_nan(df, variable):\n",
    "    df[variable] = df[variable].map(lambda x: np.nan if x == 9 else x)\n",
    "    return df.copy()"
   ]
  },
  {
   "cell_type": "code",
   "execution_count": 6,
   "metadata": {},
   "outputs": [],
   "source": [
    "def shuffle_rows(df, variable):\n",
    "    result_df = df.copy()\n",
    "    result_df[variable] = result_df.sample(frac = 1.0).copy()[variable].values\n",
    "    return result_df.sample(frac = 1.0).copy()"
   ]
  },
  {
   "cell_type": "code",
   "execution_count": 7,
   "metadata": {},
   "outputs": [],
   "source": [
    "import numpy as np\n",
    "from datetime import timedelta\n",
    "def clean_df(df):\n",
    "    df['VACINA'] = df['VACINA'].map(lambda x: np.nan if x == 9 else x)\n",
    "    df['ANTIVIRAL'] = df['ANTIVIRAL'].map(lambda x: np.nan if x == 9 else x)\n",
    "    df['PNEUMOPATI'] = df['PNEUMOPATI'].map(lambda x: np.nan if x == 9 else x)\n",
    "    df['CARDIOPATI'] = df['CARDIOPATI'].map(lambda x: np.nan if x == 9 else x)\n",
    "    # removing NaN\n",
    "    #df_clean = df[(df['EVOLUCAO'].notna() & df['SG_UF_NOT'].notna() & df['VACINA'].notna() & df['ANTIVIRAL'].notna() & df['PNEUMOPATI'].notna() & df['CARDIOPATI'].notna())].copy()\n",
    "    fill_na_fileds = ['EVOLUCAO', 'SG_UF_NOT', 'VACINA', 'ANTIVIRAL', 'PNEUMOPATI', 'CARDIOPATI']\n",
    "    for i in fill_na_fileds:\n",
    "        df = ignored_to_nan(df, i)\n",
    "        df = fill_nan_values(df, i)\n",
    "    df_clean = df.copy()\n",
    "    \n",
    "    \n",
    "    df_clean['TEMVACINA'] = df_clean['VACINA'].map(lambda x: False if x == 2 else True)\n",
    "    \n",
    "    df_clean['USOANTIVIRAL'] = df_clean['ANTIVIRAL'].map(lambda x: False if x == 1 else True)\n",
    "    \n",
    "    df_clean['CARDIOPATI'] = df_clean['CARDIOPATI'].map(lambda x: True if x == 1 else False)\n",
    "    df_clean['PNEUMOPATI'] = df_clean['PNEUMOPATI'].map(lambda x: True if x == 1 else False)\n",
    "    \n",
    "    df_clean['MORTE'] = df_clean['EVOLUCAO'].map(lambda x: True if x == \"2\" or x == \"4\" or x == 2.0 or x == 4.0 else False)\n",
    "    df_clean['IDADE'] = (pd.to_datetime(df_clean['DT_NOTIFIC'], errors = 'coerce') - pd.to_datetime(df_clean['DT_NASC'], errors = 'coerce')) / timedelta(days=365)\n",
    "    df_clean['MAISIDADE'] = df_clean['IDADE'].map(lambda x: True if x > 80 else False)\n",
    "    df_clean['UF_NOT'] = df_clean['SG_UF_NOT'].map(lambda x: convert_uf(x))\n",
    "    df_clean['MULHER'] = df_clean['CS_SEXO'].map(lambda x: True if x == \"F\" else False)\n",
    "    label_regions(df_clean)\n",
    "    return df_clean\n"
   ]
  },
  {
   "cell_type": "code",
   "execution_count": 8,
   "metadata": {},
   "outputs": [],
   "source": [
    "def load_dataframes(df):\n",
    "    sensitive_vars = [\"MULHER\", \"MAISIDADE\", \"region-centro-oeste\", \"region-norte\", \"region-nordeste\", \"region-sudeste\", \"region-sul\", \"TEMVACINA\", \"MORTE\", \"USOANTIVIRAL\", \"PNEUMOPATI\", \"CARDIOPATI\"]\n",
    "    dataframes = []\n",
    "    dff = clean_df(df)\n",
    "    dates = [2010.0, 2011.0, 2012.0, 2013.0, 2014.0, 2015.0, 2016.0, 2017.0, 2018.0, 2019.0]\n",
    "    for i in dates:\n",
    "        dataframes.append(dff[dff[\"NT_DT\"] == i][sensitive_vars])\n",
    "    dataframes[0] = dataframes[1]\n",
    "    return dataframes"
   ]
  },
  {
   "cell_type": "code",
   "execution_count": 9,
   "metadata": {},
   "outputs": [],
   "source": [
    "raw_df = get_dataframes()\n"
   ]
  },
  {
   "cell_type": "code",
   "execution_count": 10,
   "metadata": {},
   "outputs": [],
   "source": [
    "df_processed = load_dataframes(raw_df.copy())\n",
    "df = df_processed[6].dropna() #TODO check with 5 only e use complete"
   ]
  },
  {
   "cell_type": "code",
   "execution_count": 11,
   "metadata": {},
   "outputs": [
    {
     "name": "stdout",
     "output_type": "stream",
     "text": [
      "Non binary varables set()\n"
     ]
    },
    {
     "data": {
      "text/html": [
       "<div>\n",
       "<style scoped>\n",
       "    .dataframe tbody tr th:only-of-type {\n",
       "        vertical-align: middle;\n",
       "    }\n",
       "\n",
       "    .dataframe tbody tr th {\n",
       "        vertical-align: top;\n",
       "    }\n",
       "\n",
       "    .dataframe thead th {\n",
       "        text-align: right;\n",
       "    }\n",
       "</style>\n",
       "<table border=\"1\" class=\"dataframe\">\n",
       "  <thead>\n",
       "    <tr style=\"text-align: right;\">\n",
       "      <th></th>\n",
       "      <th>MULHER</th>\n",
       "      <th>MAISIDADE</th>\n",
       "      <th>region-centro-oeste</th>\n",
       "      <th>region-norte</th>\n",
       "      <th>region-nordeste</th>\n",
       "      <th>region-sudeste</th>\n",
       "      <th>region-sul</th>\n",
       "      <th>TEMVACINA</th>\n",
       "      <th>MORTE</th>\n",
       "      <th>USOANTIVIRAL</th>\n",
       "      <th>PNEUMOPATI</th>\n",
       "      <th>CARDIOPATI</th>\n",
       "    </tr>\n",
       "  </thead>\n",
       "  <tbody>\n",
       "    <tr>\n",
       "      <th>39247</th>\n",
       "      <td>True</td>\n",
       "      <td>False</td>\n",
       "      <td>False</td>\n",
       "      <td>False</td>\n",
       "      <td>False</td>\n",
       "      <td>True</td>\n",
       "      <td>False</td>\n",
       "      <td>False</td>\n",
       "      <td>False</td>\n",
       "      <td>True</td>\n",
       "      <td>False</td>\n",
       "      <td>False</td>\n",
       "    </tr>\n",
       "    <tr>\n",
       "      <th>39727</th>\n",
       "      <td>False</td>\n",
       "      <td>False</td>\n",
       "      <td>False</td>\n",
       "      <td>False</td>\n",
       "      <td>False</td>\n",
       "      <td>True</td>\n",
       "      <td>False</td>\n",
       "      <td>False</td>\n",
       "      <td>False</td>\n",
       "      <td>True</td>\n",
       "      <td>False</td>\n",
       "      <td>False</td>\n",
       "    </tr>\n",
       "    <tr>\n",
       "      <th>40044</th>\n",
       "      <td>True</td>\n",
       "      <td>False</td>\n",
       "      <td>False</td>\n",
       "      <td>False</td>\n",
       "      <td>False</td>\n",
       "      <td>True</td>\n",
       "      <td>False</td>\n",
       "      <td>False</td>\n",
       "      <td>False</td>\n",
       "      <td>False</td>\n",
       "      <td>False</td>\n",
       "      <td>False</td>\n",
       "    </tr>\n",
       "    <tr>\n",
       "      <th>45226</th>\n",
       "      <td>False</td>\n",
       "      <td>False</td>\n",
       "      <td>False</td>\n",
       "      <td>False</td>\n",
       "      <td>False</td>\n",
       "      <td>True</td>\n",
       "      <td>False</td>\n",
       "      <td>True</td>\n",
       "      <td>True</td>\n",
       "      <td>True</td>\n",
       "      <td>False</td>\n",
       "      <td>False</td>\n",
       "    </tr>\n",
       "    <tr>\n",
       "      <th>45346</th>\n",
       "      <td>False</td>\n",
       "      <td>False</td>\n",
       "      <td>False</td>\n",
       "      <td>False</td>\n",
       "      <td>False</td>\n",
       "      <td>True</td>\n",
       "      <td>False</td>\n",
       "      <td>False</td>\n",
       "      <td>False</td>\n",
       "      <td>True</td>\n",
       "      <td>False</td>\n",
       "      <td>False</td>\n",
       "    </tr>\n",
       "  </tbody>\n",
       "</table>\n",
       "</div>"
      ],
      "text/plain": [
       "       MULHER  MAISIDADE  region-centro-oeste  region-norte  region-nordeste  \\\n",
       "39247    True      False                False         False            False   \n",
       "39727   False      False                False         False            False   \n",
       "40044    True      False                False         False            False   \n",
       "45226   False      False                False         False            False   \n",
       "45346   False      False                False         False            False   \n",
       "\n",
       "       region-sudeste  region-sul  TEMVACINA  MORTE  USOANTIVIRAL  PNEUMOPATI  \\\n",
       "39247            True       False      False  False          True       False   \n",
       "39727            True       False      False  False          True       False   \n",
       "40044            True       False      False  False         False       False   \n",
       "45226            True       False       True   True          True       False   \n",
       "45346            True       False      False  False          True       False   \n",
       "\n",
       "       CARDIOPATI  \n",
       "39247       False  \n",
       "39727       False  \n",
       "40044       False  \n",
       "45226       False  \n",
       "45346       False  "
      ]
     },
     "execution_count": 11,
     "metadata": {},
     "output_type": "execute_result"
    }
   ],
   "source": [
    "sensitive_vars = [\"MULHER\", \"MAISIDADE\", \"region-centro-oeste\", \"region-norte\", \"region-nordeste\", \"region-sudeste\", \"region-sul\", \"TEMVACINA\", \"MORTE\", \"USOANTIVIRAL\", \"PNEUMOPATI\", \"CARDIOPATI\"]\n",
    "warnNonBinary = set()\n",
    "for j in sensitive_vars:\n",
    "    for i in df_processed:\n",
    "        if(len(i.dropna()[j].value_counts()) > 2):\n",
    "            warnNonBinary.add(j)\n",
    "print(f\"Non binary varables {warnNonBinary}\")\n",
    "df.head()"
   ]
  },
  {
   "cell_type": "code",
   "execution_count": 12,
   "metadata": {},
   "outputs": [],
   "source": [
    "# Use numpy to convert to arrays\n",
    "import numpy as np\n",
    "# mortes are the values we want to predict\n",
    "mortes = np.array(df['MORTE'])\n",
    "# Remove the mortes from the features\n",
    "# axis 1 refers to the columns\n",
    "df_drop= df.drop('MORTE', axis = 1)\n",
    "# Saving feature names for later use\n",
    "feature_list = list(df_drop.columns)\n",
    "# Convert to numpy array\n",
    "df_np = np.array(df_drop)\n",
    "\n",
    "df_vacinados = df[df[\"TEMVACINA\"]]\n",
    "\n",
    "# mortes are the values we want to predict\n",
    "mortes_v = np.array(df_vacinados['MORTE'])\n",
    "# Remove the mortes from the features\n",
    "# axis 1 refers to the columns\n",
    "df_drop_v= df_vacinados.drop('MORTE', axis = 1)\n",
    "# Saving feature names for later use\n",
    "feature_list_v = list(df_drop_v.columns)\n",
    "# Convert to numpy array\n",
    "df_np_v = np.array(df_drop_v)\n"
   ]
  },
  {
   "cell_type": "code",
   "execution_count": 13,
   "metadata": {},
   "outputs": [],
   "source": [
    "raw_train_features, test_features, raw_train_mortes, test_mortes = train_test_split(df_np, mortes, test_size = 0.20, random_state = 42)\n",
    "\n",
    "train_features, valida_features, train_mortes, valida_mortes = train_test_split(raw_train_features, raw_train_mortes, test_size = 0.20, random_state = 42)\n",
    "\n",
    "\n",
    "\n",
    "raw_train_features_v, test_features_v, raw_train_mortes_v, test_mortes_v = train_test_split(df_np_v, mortes_v, test_size = 0.20, random_state = 42)\n",
    "\n",
    "train_features_v, valida_features_v, train_mortes_v, valida_mortes_v = train_test_split(raw_train_features_v, raw_train_mortes_v, test_size = 0.20, random_state = 42)\n",
    "\n"
   ]
  },
  {
   "cell_type": "code",
   "execution_count": 14,
   "metadata": {},
   "outputs": [],
   "source": [
    "#train_features.shape"
   ]
  },
  {
   "cell_type": "code",
   "execution_count": 15,
   "metadata": {},
   "outputs": [],
   "source": [
    "from sklearn.ensemble import RandomForestClassifier\n",
    "# Instantiate model with 1000 decision trees\n",
    "rf = RandomForestClassifier(n_estimators = 1000, random_state = 42, oob_score = True)\n",
    "# Train the model on training data\n",
    "rf.fit(train_features, train_mortes);\n",
    "\n",
    "# Instantiate model with 1000 decision trees\n",
    "rf_v = RandomForestClassifier(n_estimators = 1000, random_state = 42, oob_score = True)\n",
    "# Train the model on training data\n",
    "rf_v.fit(train_features_v, train_mortes_v);"
   ]
  },
  {
   "cell_type": "code",
   "execution_count": 16,
   "metadata": {},
   "outputs": [
    {
     "name": "stdout",
     "output_type": "stream",
     "text": [
      "Mean Absolute Error: 0.18 degrees.\n"
     ]
    }
   ],
   "source": [
    "# Use the forest's predict method on the test data\n",
    "predictions = rf.predict(valida_features)\n",
    "# Calculate the absolute errors\n",
    "errors = abs(np.array([int(x) for x in predictions]) - np.array([int(x) for x in valida_mortes]))\n",
    "# Print out the mean absolute error (mae)\n",
    "print('Mean Absolute Error:', round(np.mean(errors), 2), 'degrees.')\n",
    "\n",
    "\n",
    "#somar o train com o teste"
   ]
  },
  {
   "cell_type": "code",
   "execution_count": 17,
   "metadata": {},
   "outputs": [],
   "source": [
    "#rf.fit(test_features, test_mortes);"
   ]
  },
  {
   "cell_type": "code",
   "execution_count": 18,
   "metadata": {},
   "outputs": [
    {
     "data": {
      "text/plain": [
       "(34040, 11)"
      ]
     },
     "execution_count": 18,
     "metadata": {},
     "output_type": "execute_result"
    }
   ],
   "source": [
    "from sklearn.model_selection import cross_val_score\n",
    "raw_train_features.shape"
   ]
  },
  {
   "cell_type": "code",
   "execution_count": 19,
   "metadata": {},
   "outputs": [
    {
     "name": "stdout",
     "output_type": "stream",
     "text": [
      "oob Score for full set and + test 0.8254406580493537\n"
     ]
    }
   ],
   "source": [
    "#rf = RandomForestRegressor(n_estimators = 1000, random_state = 42, oob_score = True)\n",
    "#rf.fit(train_f_features, train_f_mortes);\n",
    "#print('Score: ', rf.score(raw_train_features, raw_train_features))  #oob errors e root mean square errosrs testes homogeneos com classes balanceadas\n",
    "oob_score = rf.score(raw_train_features, raw_train_mortes)\n",
    "\n",
    "print(f\"oob Score for full set and + test {oob_score}\")"
   ]
  },
  {
   "cell_type": "code",
   "execution_count": 20,
   "metadata": {},
   "outputs": [],
   "source": [
    "#np.mean(cross_val_score(rf, cross_features, cross_mortes,scoring='neg_mean_absolute_error', cv=10))"
   ]
  },
  {
   "cell_type": "code",
   "execution_count": null,
   "metadata": {},
   "outputs": [],
   "source": [
    "#cross_val_score(rf, train_features, train_mortes,scoring='r2', cv=10)\n",
    "#rain_features"
   ]
  },
  {
   "cell_type": "code",
   "execution_count": 21,
   "metadata": {},
   "outputs": [
    {
     "name": "stderr",
     "output_type": "stream",
     "text": [
      "[Parallel(n_jobs=10)]: Using backend LokyBackend with 10 concurrent workers.\n",
      "[Parallel(n_jobs=10)]: Done   2 out of   5 | elapsed:   16.1s remaining:   24.2s\n",
      "[Parallel(n_jobs=10)]: Done   3 out of   5 | elapsed:   16.2s remaining:   10.8s\n",
      "[Parallel(n_jobs=10)]: Done   5 out of   5 | elapsed:   16.6s remaining:    0.0s\n",
      "[Parallel(n_jobs=10)]: Done   5 out of   5 | elapsed:   16.6s finished\n"
     ]
    },
    {
     "data": {
      "text/plain": [
       "array([0.82008445, 0.82173674, 0.82096952, 0.82096952, 0.82225487])"
      ]
     },
     "execution_count": 21,
     "metadata": {},
     "output_type": "execute_result"
    }
   ],
   "source": [
    "#rf = RandomForestRegressor(n_estimators = 1000, random_state = 42, oob_score = True)\n",
    "#rf.fit(train_f_features, train_f_mortes);\n",
    "\n",
    "#train_features.shape\n",
    "\n",
    "cross_val_score(rf, train_features, train_mortes,scoring='accuracy', cv=5, verbose=10, n_jobs=10)"
   ]
  },
  {
   "cell_type": "code",
   "execution_count": 22,
   "metadata": {},
   "outputs": [],
   "source": [
    "from sklearn.inspection import permutation_importance\n",
    "#permutation_importance(rf, train_features, train_mortes, n_repeats=1000)\n"
   ]
  },
  {
   "cell_type": "code",
   "execution_count": 23,
   "metadata": {},
   "outputs": [],
   "source": [
    "#permutation_importance(rf, cross_features, cross_mortes, n_repeats=200, n_jobs=-1)"
   ]
  },
  {
   "cell_type": "code",
   "execution_count": 25,
   "metadata": {},
   "outputs": [
    {
     "name": "stdout",
     "output_type": "stream",
     "text": [
      "302.45486545562744\n"
     ]
    }
   ],
   "source": [
    "import time\n",
    "\n",
    "start = time.time()\n",
    "\n",
    "pii = permutation_importance(rf, raw_train_features, raw_train_mortes, n_repeats=20, n_jobs=10) #pegar todos os dados\n",
    "pii_v = permutation_importance(rf_v, raw_train_features_v, raw_train_mortes_v, n_repeats=20, n_jobs=10) #pegar todos os dados\n",
    "end = time.time()\n",
    "print(end - start)\n"
   ]
  },
  {
   "cell_type": "code",
   "execution_count": 26,
   "metadata": {},
   "outputs": [
    {
     "data": {
      "text/plain": [
       "Text(0.5, 0, 'Permutation Importance 600 interaçoes')"
      ]
     },
     "execution_count": 26,
     "metadata": {},
     "output_type": "execute_result"
    },
    {
     "data": {
      "image/png": "[encoded data removed]",
      "text/plain": [
       "<Figure size 432x288 with 1 Axes>"
      ]
     },
     "metadata": {
      "needs_background": "light"
     },
     "output_type": "display_data"
    }
   ],
   "source": [
    "import matplotlib.pyplot as plt\n",
    "\n",
    "sorted_idx = pii.importances_mean.argsort()\n",
    "plt.barh(df_drop.columns[sorted_idx], pii.importances_mean[sorted_idx])\n",
    "plt.xlabel(\"Permutation Importance 20 interaçoes\")"
   ]
  },
  {
   "cell_type": "code",
   "execution_count": 42,
   "metadata": {},
   "outputs": [
    {
     "data": {
      "text/plain": [
       "Text(0.5, 0, 'Permutation Importance 20 interaçoes [com vacina]')"
      ]
     },
     "execution_count": 42,
     "metadata": {},
     "output_type": "execute_result"
    },
    {
     "data": {
      "image/png": "[encoded data removed]",
      "text/plain": [
       "<Figure size 432x288 with 2 Axes>"
      ]
     },
     "metadata": {
      "needs_background": "light"
     },
     "output_type": "display_data"
    }
   ],
   "source": [
    "plt.subplot(141)\n",
    "sorted_idx = pii.importances_mean.argsort()\n",
    "plt.barh(df_drop.columns[sorted_idx], pii.importances_mean[sorted_idx])\n",
    "plt.xlabel(\"Permutation Importance 20 interaçoes\")\n",
    "\n",
    "plt.subplot(144)\n",
    "sorted_idx_v = pii_v.importances_mean.argsort()\n",
    "plt.barh(df_drop_v.columns[sorted_idx_v], pii_v.importances_mean[sorted_idx_v])\n",
    "plt.xlabel(\"Permutation Importance 20 interaçoes [com vacina]\")"
   ]
  },
  {
   "cell_type": "code",
   "execution_count": 27,
   "metadata": {},
   "outputs": [
    {
     "data": {
      "text/plain": [
       "Text(0.5, 0, 'Permutation Importance 600 interaçoes')"
      ]
     },
     "execution_count": 27,
     "metadata": {},
     "output_type": "execute_result"
    },
    {
     "data": {
      "image/png": "[encoded data removed]",
      "text/plain": [
       "<Figure size 432x288 with 1 Axes>"
      ]
     },
     "metadata": {
      "needs_background": "light"
     },
     "output_type": "display_data"
    }
   ],
   "source": [
    "import matplotlib.pyplot as plt\n",
    "\n",
    "sorted_idx = pii_v.importances_mean.argsort()\n",
    "plt.barh(df_drop_v.columns[sorted_idx], pii_v.importances_mean[sorted_idx])\n",
    "plt.xlabel(\"Permutation Importance 20 interaçoes\")"
   ]
  },
  {
   "cell_type": "code",
   "execution_count": 28,
   "metadata": {},
   "outputs": [
    {
     "data": {
      "text/html": [
       "\n",
       "    <style>\n",
       "    table.eli5-weights tr:hover {\n",
       "        filter: brightness(85%);\n",
       "    }\n",
       "</style>\n",
       "\n",
       "\n",
       "\n",
       "    \n",
       "\n",
       "    \n",
       "\n",
       "    \n",
       "\n",
       "    \n",
       "\n",
       "    \n",
       "\n",
       "    \n",
       "\n",
       "\n",
       "    \n",
       "\n",
       "    \n",
       "\n",
       "    \n",
       "\n",
       "    \n",
       "\n",
       "    \n",
       "\n",
       "    \n",
       "\n",
       "\n",
       "    \n",
       "\n",
       "    \n",
       "\n",
       "    \n",
       "\n",
       "    \n",
       "\n",
       "    \n",
       "        <table class=\"eli5-weights eli5-feature-importances\" style=\"border-collapse: collapse; border: none; margin-top: 0em; table-layout: auto;\">\n",
       "    <thead>\n",
       "    <tr style=\"border: none;\">\n",
       "        <th style=\"padding: 0 1em 0 0.5em; text-align: right; border: none;\">Weight</th>\n",
       "        <th style=\"padding: 0 0.5em 0 0.5em; text-align: left; border: none;\">Feature</th>\n",
       "    </tr>\n",
       "    </thead>\n",
       "    <tbody>\n",
       "    \n",
       "        <tr style=\"background-color: hsl(120, 100.00%, 80.00%); border: none;\">\n",
       "            <td style=\"padding: 0 1em 0 0.5em; text-align: right; border: none;\">\n",
       "                0.0120\n",
       "                \n",
       "                    &plusmn; 0.0010\n",
       "                \n",
       "            </td>\n",
       "            <td style=\"padding: 0 0.5em 0 0.5em; text-align: left; border: none;\">\n",
       "                MAISIDADE\n",
       "            </td>\n",
       "        </tr>\n",
       "    \n",
       "        <tr style=\"background-color: hsl(120, 100.00%, 89.85%); border: none;\">\n",
       "            <td style=\"padding: 0 1em 0 0.5em; text-align: right; border: none;\">\n",
       "                0.0046\n",
       "                \n",
       "                    &plusmn; 0.0008\n",
       "                \n",
       "            </td>\n",
       "            <td style=\"padding: 0 0.5em 0 0.5em; text-align: left; border: none;\">\n",
       "                CARDIOPATI\n",
       "            </td>\n",
       "        </tr>\n",
       "    \n",
       "        <tr style=\"background-color: hsl(120, 100.00%, 91.93%); border: none;\">\n",
       "            <td style=\"padding: 0 1em 0 0.5em; text-align: right; border: none;\">\n",
       "                0.0033\n",
       "                \n",
       "                    &plusmn; 0.0003\n",
       "                \n",
       "            </td>\n",
       "            <td style=\"padding: 0 0.5em 0 0.5em; text-align: left; border: none;\">\n",
       "                MULHER\n",
       "            </td>\n",
       "        </tr>\n",
       "    \n",
       "        <tr style=\"background-color: hsl(120, 100.00%, 92.45%); border: none;\">\n",
       "            <td style=\"padding: 0 1em 0 0.5em; text-align: right; border: none;\">\n",
       "                0.0030\n",
       "                \n",
       "                    &plusmn; 0.0009\n",
       "                \n",
       "            </td>\n",
       "            <td style=\"padding: 0 0.5em 0 0.5em; text-align: left; border: none;\">\n",
       "                USOANTIVIRAL\n",
       "            </td>\n",
       "        </tr>\n",
       "    \n",
       "        <tr style=\"background-color: hsl(120, 100.00%, 93.79%); border: none;\">\n",
       "            <td style=\"padding: 0 1em 0 0.5em; text-align: right; border: none;\">\n",
       "                0.0023\n",
       "                \n",
       "                    &plusmn; 0.0002\n",
       "                \n",
       "            </td>\n",
       "            <td style=\"padding: 0 0.5em 0 0.5em; text-align: left; border: none;\">\n",
       "                PNEUMOPATI\n",
       "            </td>\n",
       "        </tr>\n",
       "    \n",
       "        <tr style=\"background-color: hsl(120, 100.00%, 95.05%); border: none;\">\n",
       "            <td style=\"padding: 0 1em 0 0.5em; text-align: right; border: none;\">\n",
       "                0.0016\n",
       "                \n",
       "                    &plusmn; 0.0008\n",
       "                \n",
       "            </td>\n",
       "            <td style=\"padding: 0 0.5em 0 0.5em; text-align: left; border: none;\">\n",
       "                TEMVACINA\n",
       "            </td>\n",
       "        </tr>\n",
       "    \n",
       "        <tr style=\"background-color: hsl(120, 100.00%, 96.41%); border: none;\">\n",
       "            <td style=\"padding: 0 1em 0 0.5em; text-align: right; border: none;\">\n",
       "                0.0010\n",
       "                \n",
       "                    &plusmn; 0.0008\n",
       "                \n",
       "            </td>\n",
       "            <td style=\"padding: 0 0.5em 0 0.5em; text-align: left; border: none;\">\n",
       "                region-sudeste\n",
       "            </td>\n",
       "        </tr>\n",
       "    \n",
       "        <tr style=\"background-color: hsl(120, 100.00%, 97.13%); border: none;\">\n",
       "            <td style=\"padding: 0 1em 0 0.5em; text-align: right; border: none;\">\n",
       "                0.0008\n",
       "                \n",
       "                    &plusmn; 0.0004\n",
       "                \n",
       "            </td>\n",
       "            <td style=\"padding: 0 0.5em 0 0.5em; text-align: left; border: none;\">\n",
       "                region-nordeste\n",
       "            </td>\n",
       "        </tr>\n",
       "    \n",
       "        <tr style=\"background-color: hsl(120, 100.00%, 97.42%); border: none;\">\n",
       "            <td style=\"padding: 0 1em 0 0.5em; text-align: right; border: none;\">\n",
       "                0.0006\n",
       "                \n",
       "                    &plusmn; 0.0008\n",
       "                \n",
       "            </td>\n",
       "            <td style=\"padding: 0 0.5em 0 0.5em; text-align: left; border: none;\">\n",
       "                region-sul\n",
       "            </td>\n",
       "        </tr>\n",
       "    \n",
       "        <tr style=\"background-color: hsl(120, 100.00%, 98.06%); border: none;\">\n",
       "            <td style=\"padding: 0 1em 0 0.5em; text-align: right; border: none;\">\n",
       "                0.0004\n",
       "                \n",
       "                    &plusmn; 0.0004\n",
       "                \n",
       "            </td>\n",
       "            <td style=\"padding: 0 0.5em 0 0.5em; text-align: left; border: none;\">\n",
       "                region-centro-oeste\n",
       "            </td>\n",
       "        </tr>\n",
       "    \n",
       "        <tr style=\"background-color: hsl(120, 100.00%, 98.91%); border: none;\">\n",
       "            <td style=\"padding: 0 1em 0 0.5em; text-align: right; border: none;\">\n",
       "                0.0002\n",
       "                \n",
       "                    &plusmn; 0.0002\n",
       "                \n",
       "            </td>\n",
       "            <td style=\"padding: 0 0.5em 0 0.5em; text-align: left; border: none;\">\n",
       "                region-norte\n",
       "            </td>\n",
       "        </tr>\n",
       "    \n",
       "    \n",
       "    </tbody>\n",
       "</table>\n",
       "    \n",
       "\n",
       "    \n",
       "\n",
       "\n",
       "    \n",
       "\n",
       "    \n",
       "\n",
       "    \n",
       "\n",
       "    \n",
       "\n",
       "    \n",
       "\n",
       "    \n",
       "\n",
       "\n",
       "\n"
      ],
      "text/plain": [
       "<IPython.core.display.HTML object>"
      ]
     },
     "execution_count": 28,
     "metadata": {},
     "output_type": "execute_result"
    }
   ],
   "source": [
    "import eli5\n",
    "from eli5.sklearn import PermutationImportance\n",
    "\n",
    "perm = PermutationImportance(rf, random_state=1).fit(raw_train_features, raw_train_mortes)\n",
    "eli5.show_weights(perm, feature_names = feature_list)"
   ]
  },
  {
   "cell_type": "code",
   "execution_count": 29,
   "metadata": {},
   "outputs": [
    {
     "data": {
      "image/png": "[encoded data removed]",
      "text/plain": [
       "<Figure size 576x424.8 with 1 Axes>"
      ]
     },
     "metadata": {
      "needs_background": "light"
     },
     "output_type": "display_data"
    }
   ],
   "source": [
    "import shap\n",
    "explainer = shap.TreeExplainer(rf)\n",
    "shap_values = explainer.shap_values(raw_train_features)\n",
    "shap.summary_plot(shap_values, raw_train_features, plot_type=\"bar\", feature_names = feature_list)"
   ]
  },
  {
   "cell_type": "code",
   "execution_count": 30,
   "metadata": {},
   "outputs": [
    {
     "data": {
      "image/png": "[encoded data removed]",
      "text/plain": [
       "<Figure size 576x424.8 with 1 Axes>"
      ]
     },
     "metadata": {
      "needs_background": "light"
     },
     "output_type": "display_data"
    }
   ],
   "source": [
    "shap.summary_plot(shap_values, raw_train_features, feature_names = feature_list)"
   ]
  },
  {
   "cell_type": "code",
   "execution_count": null,
   "metadata": {},
   "outputs": [],
   "source": [
    "feature_list"
   ]
  },
  {
   "cell_type": "code",
   "execution_count": null,
   "metadata": {},
   "outputs": [],
   "source": []
  }
 ],
 "metadata": {
  "kernelspec": {
   "display_name": "Python 3",
   "language": "python",
   "name": "python3"
  },
  "language_info": {
   "codemirror_mode": {
    "name": "ipython",
    "version": 3
   },
   "file_extension": ".py",
   "mimetype": "text/x-python",
   "name": "python",
   "nbconvert_exporter": "python",
   "pygments_lexer": "ipython3",
   "version": "3.7.6"
  }
 },
 "nbformat": 4,
 "nbformat_minor": 4
}
